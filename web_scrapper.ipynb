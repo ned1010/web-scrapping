{
 "cells": [
  {
   "cell_type": "code",
   "execution_count": 71,
   "metadata": {},
   "outputs": [],
   "source": [
    "#importing all the packages\n",
    "#install web-driver using command 'pip3 install webdriver-manager'\n",
    "import pandas as pd\n",
    "from selenium import webdriver\n",
    "from selenium.webdriver.common.by import By\n",
    "from selenium.webdriver.support.ui import Select\n",
    "from selenium.webdriver.chrome.service import Service\n",
    "from webdriver_manager.chrome import ChromeDriverManager"
   ]
  },
  {
   "cell_type": "code",
   "execution_count": 72,
   "metadata": {},
   "outputs": [
    {
     "name": "stderr",
     "output_type": "stream",
     "text": [
      "\n",
      "\n",
      "====== WebDriver manager ======\n",
      "Current google-chrome version is 101.0.4951\n",
      "Get LATEST chromedriver version for 101.0.4951 google-chrome\n",
      "Driver [C:\\Users\\Nidup\\.wdm\\drivers\\chromedriver\\win32\\101.0.4951.41\\chromedriver.exe] found in cache\n"
     ]
    }
   ],
   "source": [
    "#install driver \n",
    "driver = webdriver.Chrome(service = Service(ChromeDriverManager().install()))"
   ]
  },
  {
   "cell_type": "code",
   "execution_count": 73,
   "metadata": {},
   "outputs": [],
   "source": [
    "\n",
    "def web_scrapper(url, start_year, end_year, file):\n",
    "    data = list()\n",
    "    for year in range(start_year, end_year):\n",
    "        for currency_choose in range(0, 2):\n",
    "            temporary_data = list()\n",
    "            temporary_data.append(f\"{year} - {year+1}\")\n",
    "            driver.get(url)\n",
    "            \n",
    "            #selecting the drop down element with an id \"select2\"\n",
    "            drop_down_element = Select(driver.find_element(By.ID, \"select2\"))\n",
    "            drop_down_element.select_by_value(str(year))\n",
    "\n",
    "            if currency_choose == 1:\n",
    "                driver.find_element(by=By.ID, value = \"radiousd\").click()\n",
    "                temporary_data.append(\"USD$\")\n",
    "            else:\n",
    "                temporary_data.append(\"Rs.\")\n",
    "                \n",
    "            \n",
    "            driver.find_element(By.ID, 'button1').click()\n",
    "            table_data = driver.find_elements(by=By.XPATH, value = \"//table/tbody/tr\") \n",
    "            value = table_data[-1].find_elements(by=By.TAG_NAME, value ='td')[4].text\n",
    "            temporary_data.append(value.replace(\",\", \"\"))\n",
    "            data.append(temporary_data)\n",
    "        dataframe = pd.DataFrame(data, columns=[\"Year\", \"Currency\", \"Value\"])\n",
    "        dataframe.to_csv(file)\n",
    "    return None\n",
    "\n"
   ]
  },
  {
   "cell_type": "code",
   "execution_count": 74,
   "metadata": {},
   "outputs": [],
   "source": [
    "#generating import csv\n",
    "web_scrapper('https://tradestat.commerce.gov.in/eidb/icntq.asp', 2007, 2018, \"india_imports.csv\")"
   ]
  },
  {
   "cell_type": "code",
   "execution_count": 75,
   "metadata": {},
   "outputs": [],
   "source": [
    "#generating export csv\n",
    "web_scrapper('https://tradestat.commerce.gov.in/eidb/ecntq.asp', 2007, 2018, \"india_exports.csv\")"
   ]
  },
  {
   "cell_type": "code",
   "execution_count": null,
   "metadata": {},
   "outputs": [],
   "source": []
  }
 ],
 "metadata": {
  "interpreter": {
   "hash": "be901648a57d134a7bb1d6e6ed07bb363169688933581096b59a52687c5bf690"
  },
  "kernelspec": {
   "display_name": "Python 3.9.10 64-bit (windows store)",
   "language": "python",
   "name": "python3"
  },
  "language_info": {
   "codemirror_mode": {
    "name": "ipython",
    "version": 3
   },
   "file_extension": ".py",
   "mimetype": "text/x-python",
   "name": "python",
   "nbconvert_exporter": "python",
   "pygments_lexer": "ipython3",
   "version": "3.9.12"
  },
  "orig_nbformat": 4
 },
 "nbformat": 4,
 "nbformat_minor": 2
}
